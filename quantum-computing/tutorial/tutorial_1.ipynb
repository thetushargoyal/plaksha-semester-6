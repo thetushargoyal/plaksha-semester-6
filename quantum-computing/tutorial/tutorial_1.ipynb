{
 "cells": [
  {
   "cell_type": "code",
   "execution_count": 1,
   "id": "0b8b6004-c2a2-444c-95cd-db5c8cc4f420",
   "metadata": {},
   "outputs": [],
   "source": [
    "import qiskit\n",
    "from qiskit import *\n",
    "\n",
    "QR = QuantumRegister(2, \"qreg\")\n",
    "CR = ClassicalRegister(2, \"creg\")\n",
    "\n",
    "QC = QuantumCircuit(QR, CR)\n",
    "QC.x(QR[1])\n",
    "\n",
    "for i in range(4):\n",
    "    if i%2 == 0:\n",
    "        QC.z(QR[0])\n",
    "        QC.x(QR[1])\n",
    "    else:\n",
    "        QC.h(QR[0])\n",
    "        QC.h(QR[1])"
   ]
  },
  {
   "cell_type": "code",
   "execution_count": 2,
   "id": "5903bcb9-dcae-4630-b85d-597624e33483",
   "metadata": {},
   "outputs": [],
   "source": [
    "# QC.measure(QR, CR)\n",
    "# QC.draw(output='mpl', style='clifford')"
   ]
  },
  {
   "cell_type": "code",
   "execution_count": 3,
   "id": "2b63e2f3-ae90-41cc-aab6-a893f03cf548",
   "metadata": {},
   "outputs": [],
   "source": [
    "# job = execute(QC, Aer.get_backend('qasm_simulator'), shots = 10000)\n",
    "# print(job.result().get_counts(QC))"
   ]
  },
  {
   "cell_type": "code",
   "execution_count": 4,
   "id": "c246f8cc-d1e9-431f-be55-2e8daa537c44",
   "metadata": {},
   "outputs": [],
   "source": [
    "job = execute(QC, Aer.get_backend('unitary_simulator'))\n",
    "u = job.result().get_unitary(QC, decimals=3)"
   ]
  },
  {
   "cell_type": "code",
   "execution_count": 5,
   "id": "d5ba058f-ee62-4ddc-a9a6-34bac85badfa",
   "metadata": {},
   "outputs": [
    {
     "name": "stdout",
     "output_type": "stream",
     "text": [
      "Operator([[ 0.+0.j, -1.+0.j, -0.-0.j,  0.+0.j],\n",
      "          [ 1.-0.j,  0.-0.j, -0.-0.j, -0.+0.j],\n",
      "          [-0.+0.j,  0.-0.j, -0.-0.j,  1.-0.j],\n",
      "          [-0.+0.j, -0.+0.j, -1.+0.j, -0.+0.j]],\n",
      "         input_dims=(2, 2), output_dims=(2, 2))\n"
     ]
    }
   ],
   "source": [
    "u"
   ]
  },
  {
   "cell_type": "code",
   "execution_count": null,
   "id": "46f4cfc3-d4d8-4ab7-8c14-237086242967",
   "metadata": {},
   "outputs": [],
   "source": []
  }
 ],
 "metadata": {
  "kernelspec": {
   "display_name": "qcvenv",
   "language": "python",
   "name": "qcvenv"
  },
  "language_info": {
   "codemirror_mode": {
    "name": "ipython",
    "version": 3
   },
   "file_extension": ".py",
   "mimetype": "text/x-python",
   "name": "python",
   "nbconvert_exporter": "python",
   "pygments_lexer": "ipython3",
   "version": "3.10.9"
  }
 },
 "nbformat": 4,
 "nbformat_minor": 5
}
